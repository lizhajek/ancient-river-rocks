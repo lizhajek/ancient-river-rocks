{
 "cells": [
  {
   "cell_type": "code",
   "execution_count": 1,
   "id": "fa55b350-1e5d-4c10-a9a7-82ec27906bb3",
   "metadata": {},
   "outputs": [],
   "source": [
    "import numpy as np\n",
    "import matplotlib as mpl\n",
    "import matplotlib.pyplot as plt\n",
    "from matplotlib.widgets import Slider, Button\n",
    "%matplotlib tk\n",
    "# import pyvista as pv\n",
    "# from pyvista import examples"
   ]
  },
  {
   "cell_type": "code",
   "execution_count": 56,
   "id": "f7b877aa-f0a1-4361-9619-9d82845501a8",
   "metadata": {},
   "outputs": [],
   "source": [
    "font = {'family' : 'Helvetica',\n",
    "        'weight' : 'bold',\n",
    "        'size'   : 14}\n",
    "\n",
    "mpl.rc('font', **font)"
   ]
  },
  {
   "cell_type": "code",
   "execution_count": 15,
   "id": "2eb2a002-f432-4000-a64b-080d67cde1df",
   "metadata": {},
   "outputs": [],
   "source": [
    "def m3s_km3yr(q):\n",
    "    '''convert discharge in m3/s to discahrge in km3/yr for bqart'''\n",
    "    con_q = q*(86400*365.25)*1e-9\n",
    "    return con_q"
   ]
  },
  {
   "cell_type": "markdown",
   "id": "dc9c8710-193c-46e2-8536-45fd213219c5",
   "metadata": {
    "tags": []
   },
   "source": [
    "### Inputs"
   ]
  },
  {
   "cell_type": "markdown",
   "id": "80b2b560-0909-4bab-b31d-5f21b5882972",
   "metadata": {},
   "source": [
    "##### constants"
   ]
  },
  {
   "cell_type": "code",
   "execution_count": 2,
   "id": "97993b6b-f40f-4fd4-971c-6f9a6c6cae14",
   "metadata": {},
   "outputs": [],
   "source": [
    "w = 0.0006 ## conversion constant to get sed fluxes in MT/yr\n",
    "B = 1 ## lithology factor\n",
    "pho_s = 1.7e3 ##sediment density in kg/m3"
   ]
  },
  {
   "cell_type": "markdown",
   "id": "5ef4f4e8-34bc-45cf-adad-c36f0a6d7857",
   "metadata": {},
   "source": [
    "variates"
   ]
  },
  {
   "cell_type": "code",
   "execution_count": 3,
   "id": "9bca013d-824e-4556-913b-80e89acd8df1",
   "metadata": {},
   "outputs": [],
   "source": [
    "T = 15 ## temperatures in °C, held constant\n",
    "relief = np.append([0.2], np.arange(0.5, 5.5, 0.5)) # mountain relief in km\n",
    "drainage_area = np.logspace(2, 7, num = 11) ##drainage area in m"
   ]
  },
  {
   "cell_type": "code",
   "execution_count": 32,
   "id": "d0c21ee1-5149-4e7f-bea7-b1c547d82ac9",
   "metadata": {},
   "outputs": [],
   "source": [
    "# runoff = np.arange(0.1, 1.1, 0.1)*10e-3 ## runoff in km/yr\n",
    "discharge = m3s_km3yr(1000) #input discharge in m3/s"
   ]
  },
  {
   "cell_type": "markdown",
   "id": "3dab87db-ca63-495b-a9ed-337eea8012e1",
   "metadata": {
    "tags": []
   },
   "source": [
    "### Define actual BQART formula"
   ]
  },
  {
   "cell_type": "code",
   "execution_count": 42,
   "id": "e4954bcb-e141-4656-bfbf-7b5aad296bb6",
   "metadata": {},
   "outputs": [],
   "source": [
    "def bqart(w, B, T, q, area_grid, relief_grid):\n",
    "    '''calculate sediment supply given inputs'''\n",
    "\n",
    "    rhos = 1.7e3 ##sediment density kgm3\n",
    "    # area_grid, relief_grid = np.meshgrid(area, relief)\n",
    "\n",
    "    if T >= 2:\n",
    "        qsy = w*B*T* q**0.31 * area_grid**0.5 * relief_grid\n",
    "    else: \n",
    "        qsy = 2*w*B* q**0.31 * area_grid**0.5 * relief_grid\n",
    "    \n",
    "    qs = qsy/rhos # 10^8kgm3/yr\n",
    "\n",
    "    return qs"
   ]
  },
  {
   "cell_type": "markdown",
   "id": "0efc1284-cd53-4c14-a16a-f9c8ccccfb20",
   "metadata": {},
   "source": [
    "Set initial conditions"
   ]
  },
  {
   "cell_type": "code",
   "execution_count": 43,
   "id": "81a9b4dd-5a4d-44a4-acd6-64526c8016c6",
   "metadata": {
    "tags": []
   },
   "outputs": [],
   "source": [
    "relief = np.append([0.2], np.arange(0.5, 5.5, 0.5)) # mountain relief in km\n",
    "drainage_area = np.logspace(2, 7, num = 11) ##drainage area in m\n",
    "Temp = 15\n",
    "\n",
    "A, R = np.meshgrid(drainage_area, relief)\n",
    "Qsy = w*B*T*(discharge)**0.31 * A**0.5 * R\n",
    "Qs = Qsy/pho_s"
   ]
  },
  {
   "cell_type": "code",
   "execution_count": 84,
   "id": "87c80f38-e817-4694-a2f7-d221b522ff5c",
   "metadata": {
    "tags": []
   },
   "outputs": [],
   "source": [
    "fig, ax = plt.subplots(figsize = (10,10), dpi = 200)\n",
    "\n",
    "## plot intial figure tobe manipulated\n",
    "\n",
    "# fig, ax = plt.subplots()\n",
    "cont = ax.contourf(A, R, Qs, cmap = 'gist_earth', levels = 15)\n",
    "clines = ax.contour(A, R, Qs, colors = 'k', linewidths = 2, levels = 15)\n",
    "ax.clabel(clines, colors = 'k')\n",
    "\n",
    "# for c in clines.collections():\n",
    "#         clines.remove()\n",
    "        \n",
    "fig.colorbar(cont, ax = ax)\n",
    "ax.set_xlabel('Area, km2')\n",
    "ax.set_ylabel('Relief, km')\n",
    "\n",
    "# adjust the main plot to make room for the sliders\n",
    "fig.subplots_adjust(bottom=0.3)\n",
    "\n",
    "# Make a horizontal slider to control the frequency.\n",
    "axtemp = fig.add_axes([0.25, 0.2, 0.65, 0.03])\n",
    "temp_slider = Slider(\n",
    "    ax=axtemp,\n",
    "    label='Temperature, °C',\n",
    "    valmin=-10,\n",
    "    valmax=40,\n",
    "    valinit=Temp,\n",
    ")\n",
    "\n",
    "# Make a vertically oriented slider to control the amplitude\n",
    "axq = fig.add_axes([0.25, 0.15, 0.65, 0.03])\n",
    "q_slider = Slider(\n",
    "    ax=axq,\n",
    "    label=\"Discharge\",\n",
    "    valmin=10,\n",
    "    valmax=1e4,\n",
    "    valinit=discharge,\n",
    "    orientation=\"horizontal\"\n",
    ")\n",
    "\n",
    "\n",
    "# The function to be called anytime a slider's value changes\n",
    "def update(val):\n",
    "    \n",
    "    cont = ax.contourf(A, R, bqart(w, B, T = temp_slider.val, q = q_slider.val, area_grid = A, relief_grid = R),\n",
    "                       cmap = 'gist_earth', levels = 15)\n",
    "    \n",
    "    \n",
    "#     for c in clines.collections:\n",
    "#         c.remove()  # removes only the contours, leaves the rest intact\n",
    "    \n",
    "#     clines = ax.contour(A, R, bqart(w, B, T = temp_slider.val, q = q_slider.val, area_grid = A, relief_grid = R),\n",
    "#                         colors = 'k', linewidths = 2)\n",
    "    \n",
    "    \n",
    "#     # labs = ax.clabel(clines, colors = 'k')\n",
    "    # cont.set_ydata(bqart(w, B, freq_slider.val, amp_slider.val, area, relief))\n",
    "    fig.canvas.draw_idle()\n",
    "    # fig.canvas.draw()\n",
    "\n",
    "\n",
    "# register the update function with each slider\n",
    "temp_slider.on_changed(update)\n",
    "q_slider.on_changed(update)\n",
    "\n",
    "# Create a `matplotlib.widgets.Button` to reset the sliders to initial values.\n",
    "resetax = fig.add_axes([0.8, 0.025, 0.1, 0.04])\n",
    "button = Button(resetax, 'Reset', hovercolor='0.975')\n",
    "\n",
    "\n",
    "def reset(event):\n",
    "    temp_slider.reset()\n",
    "    q_slider.reset()\n",
    "button.on_clicked(reset)\n",
    "\n",
    "plt.show()"
   ]
  },
  {
   "cell_type": "code",
   "execution_count": null,
   "id": "b17b7d30-36b3-4809-bd5e-8b3c72748fe0",
   "metadata": {},
   "outputs": [],
   "source": []
  }
 ],
 "metadata": {
  "kernelspec": {
   "display_name": "Python 3 (ipykernel)",
   "language": "python",
   "name": "python3"
  },
  "language_info": {
   "codemirror_mode": {
    "name": "ipython",
    "version": 3
   },
   "file_extension": ".py",
   "mimetype": "text/x-python",
   "name": "python",
   "nbconvert_exporter": "python",
   "pygments_lexer": "ipython3",
   "version": "3.8.12"
  }
 },
 "nbformat": 4,
 "nbformat_minor": 5
}
