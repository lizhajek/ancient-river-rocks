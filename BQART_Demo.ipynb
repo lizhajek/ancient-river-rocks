{
 "cells": [
  {
   "cell_type": "code",
   "execution_count": 1,
   "id": "fa55b350-1e5d-4c10-a9a7-82ec27906bb3",
   "metadata": {},
   "outputs": [],
   "source": [
    "import numpy as np\n",
    "import matplotlib as mpl\n",
    "import matplotlib.pyplot as plt\n",
    "from matplotlib.widgets import Slider, Button\n",
    "%matplotlib tk\n",
    "# import pyvista as pv\n",
    "# from pyvista import examples"
   ]
  },
  {
   "cell_type": "markdown",
   "id": "dc9c8710-193c-46e2-8536-45fd213219c5",
   "metadata": {},
   "source": [
    "### Inputs"
   ]
  },
  {
   "cell_type": "markdown",
   "id": "80b2b560-0909-4bab-b31d-5f21b5882972",
   "metadata": {},
   "source": [
    "##### constants"
   ]
  },
  {
   "cell_type": "code",
   "execution_count": 2,
   "id": "97993b6b-f40f-4fd4-971c-6f9a6c6cae14",
   "metadata": {},
   "outputs": [],
   "source": [
    "w = 0.0006 ## conversion constant to get sed fluxes in MT/yr\n",
    "B = 1 ## lithology factor\n",
    "pho_s = 1.7e3 ##sediment density in kg/m3"
   ]
  },
  {
   "cell_type": "markdown",
   "id": "5ef4f4e8-34bc-45cf-adad-c36f0a6d7857",
   "metadata": {},
   "source": [
    "variates"
   ]
  },
  {
   "cell_type": "code",
   "execution_count": 3,
   "id": "9bca013d-824e-4556-913b-80e89acd8df1",
   "metadata": {},
   "outputs": [],
   "source": [
    "T = 15 ## temperatures in °C, held constant\n",
    "relief = np.append([0.2], np.arange(0.5, 5.5, 0.5)) # mountain relief in km\n",
    "drainage_area = np.logspace(2, 7, num = 11) ##drainage area in m"
   ]
  },
  {
   "cell_type": "code",
   "execution_count": 4,
   "id": "d0c21ee1-5149-4e7f-bea7-b1c547d82ac9",
   "metadata": {},
   "outputs": [],
   "source": [
    "# runoff = np.arange(0.1, 1.1, 0.1)*10e-3 ## runoff in km/yr\n",
    "runoff = 0.5e-3"
   ]
  },
  {
   "cell_type": "raw",
   "id": "dc716bf6-6cd7-44c4-9eca-d8394c1c1bfd",
   "metadata": {},
   "source": [
    "Runoff, A, R = np.meshgrid(runoff, drainage_area, relief) ##making a mesh of runoff, will calculate Qs over this"
   ]
  },
  {
   "cell_type": "raw",
   "id": "e6e80418-4cb6-44bb-be84-c70cb8c5f095",
   "metadata": {},
   "source": [
    "Qs_yield = (w*B*T)*(((Runoff*A)**0.31)*(A**0.5)*R) \n",
    "Qs = Qs_yield/pho_s"
   ]
  },
  {
   "cell_type": "raw",
   "id": "f7470a59-1d54-48cf-9c16-e3811f8bbdb1",
   "metadata": {},
   "source": [
    "A, R = np.meshgrid(drainage_area, relief)\n",
    "Qsy = w*B*T* (runoff*A)**0.31 * A**0.5 * R\n",
    "Qs = Qsy/pho_s"
   ]
  },
  {
   "cell_type": "raw",
   "id": "6dd5f518-213e-4e72-8209-f593e22f8411",
   "metadata": {},
   "source": [
    "fig, ax = plt.subplots()\n",
    "line, = ax.plot(t, f(t, init_amplitude, init_frequency), lw=2)\n",
    "ax.set_xlabel('Time [s]')"
   ]
  },
  {
   "cell_type": "raw",
   "id": "c322c4f0-378f-4eaa-b463-90a81d16869b",
   "metadata": {},
   "source": [
    "fig, ax = plt.subplots()\n",
    "cont = ax.contourf(A, R, Qs, cmap = 'hsv', levels = np.linspace(10e-5, 1, 10))\n",
    "# ax.colorbar()"
   ]
  },
  {
   "cell_type": "code",
   "execution_count": 8,
   "id": "ef414d20-ebd2-4c72-9adc-d4d5eec0564a",
   "metadata": {},
   "outputs": [],
   "source": [
    "A, R = np.meshgrid(drainage_area, relief)\n",
    "Qsy = w*B*T* (runoff*A)**0.31 * A**0.5 * R\n",
    "Qs = Qsy/pho_s"
   ]
  },
  {
   "cell_type": "markdown",
   "id": "3dab87db-ca63-495b-a9ed-337eea8012e1",
   "metadata": {
    "tags": []
   },
   "source": [
    "### Define actual BQART formula"
   ]
  },
  {
   "cell_type": "code",
   "execution_count": 15,
   "id": "e4954bcb-e141-4656-bfbf-7b5aad296bb6",
   "metadata": {},
   "outputs": [],
   "source": [
    "def bqart(w, B, T, runoff, area, relief):\n",
    "    '''calculate sediment supply given inputs'''\n",
    "    flag = input('Are you using precipitation or not:')\n",
    "    if flag == 'runoff':\n",
    "        rhos = 1.7e3 ##sediment density kgm3\n",
    "        area_grid, relief_grid = np.meshgrid(area, relief)\n",
    "        qsy = w*B*T* (runoff*area)**0.31 * area**0.5 * relief\n",
    "\n",
    "        qs = qsy/rhos\n",
    "    elif flag == 'discharge':\n",
    "        print('potatoes')\n",
    "    return qs"
   ]
  },
  {
   "cell_type": "code",
   "execution_count": null,
   "id": "b4fdd0ef-1af4-4f4c-8bf1-a8c352d3756a",
   "metadata": {},
   "outputs": [],
   "source": []
  },
  {
   "cell_type": "code",
   "execution_count": 14,
   "id": "ec70020d-893a-43ea-bc85-1118196c4452",
   "metadata": {
    "tags": []
   },
   "outputs": [],
   "source": [
    "relief = np.append([0.2], np.arange(0.5, 5.5, 0.5)) # mountain relief in km\n",
    "drainage_area = np.logspace(2, 7, num = 11) ##drainage area in m\n",
    "Temp = 15\n",
    "fig, ax = plt.subplots(figsize = (10,10))\n",
    "\n",
    "## plot intial figure tobe manipulated\n",
    "\n",
    "# fig, ax = plt.subplots()\n",
    "cont = ax.contourf(A, R, Qs, cmap = 'gist_earth', levels = np.linspace(10e-5, 1, 10))\n",
    "\n",
    "# plt.contourf(A, R, Qs, cmap = 'hsv', levels = np.linspace(10e-5, 1, 10))\n",
    "fig.colorbar(cont, ax = ax)\n",
    "ax.set_xlabel('Area, km2')\n",
    "ax.set_ylabel('relief, km')\n",
    "\n",
    "# adjust the main plot to make room for the sliders\n",
    "fig.subplots_adjust(left=0.25, bottom=0.25)\n",
    "\n",
    "# Make a horizontal slider to control the frequency.\n",
    "axfreq = fig.add_axes([0.25, 0.1, 0.65, 0.03])\n",
    "freq_slider = Slider(\n",
    "    ax=axfreq,\n",
    "    label='temperature, °C',\n",
    "    valmin=2,\n",
    "    valmax=40,\n",
    "    valinit=Temp,\n",
    ")\n",
    "\n",
    "# Make a vertically oriented slider to control the amplitude\n",
    "axamp = fig.add_axes([0.1, 0.25, 0.0225, 0.63])\n",
    "amp_slider = Slider(\n",
    "    ax=axamp,\n",
    "    label=\"Runoff\",\n",
    "    valmin=0.1e-3,\n",
    "    valmax=1e-3,\n",
    "    valinit=runoff,\n",
    "    orientation=\"vertical\"\n",
    ")\n",
    "\n",
    "## convert discharges to km3/yr \n",
    "\n",
    "# The function to be called anytime a slider's value changes\n",
    "def update(val):\n",
    "    cont = ax.contourf(A, R, bqart(w, B, freq_slider.val, amp_slider.val, A, R),\n",
    "                       cmap = 'gist_earth', levels = np.linspace(10e-5, 1, 10))\n",
    "    # cont.set_ydata(bqart(w, B, freq_slider.val, amp_slider.val, area, relief))\n",
    "    fig.canvas.draw_idle()\n",
    "    # fig.canvas.draw()\n",
    "\n",
    "\n",
    "# register the update function with each slider\n",
    "freq_slider.on_changed(update)\n",
    "amp_slider.on_changed(update)\n",
    "\n",
    "# Create a `matplotlib.widgets.Button` to reset the sliders to initial values.\n",
    "resetax = fig.add_axes([0.8, 0.025, 0.1, 0.04])\n",
    "button = Button(resetax, 'Reset', hovercolor='0.975')\n",
    "\n",
    "\n",
    "def reset(event):\n",
    "    freq_slider.reset()\n",
    "    amp_slider.reset()\n",
    "button.on_clicked(reset)\n",
    "\n",
    "plt.show()"
   ]
  },
  {
   "cell_type": "code",
   "execution_count": 16,
   "id": "a92b151b-ad9c-438b-844d-f0f26352c741",
   "metadata": {},
   "outputs": [
    {
     "data": {
      "text/plain": [
       "1.1733951633167088"
      ]
     },
     "execution_count": 16,
     "metadata": {},
     "output_type": "execute_result"
    }
   ],
   "source": [
    "Qs.max()# The parametrized function to be plotted\n",
    "def f(t, amplitude, frequency):\n",
    "    return amplitude * np.sin(2 * np.pi * frequency * t)\n",
    "\n",
    "t = np.linspace(0, 1, 1000)\n",
    "\n",
    "# Define initial parameters\n",
    "init_amplitude = 5\n",
    "init_frequency = 3\n",
    "\n",
    "# Create the figure and the line that we will manipulate\n",
    "fig, ax = plt.subplots()\n",
    "line, = ax.plot(t, f(t, init_amplitude, init_frequency), lw=2)\n",
    "ax.set_xlabel('Time [s]')\n",
    "\n",
    "# adjust the main plot to make room for the sliders\n",
    "fig.subplots_adjust(left=0.25, bottom=0.25)\n",
    "\n",
    "# Make a horizontal slider to control the frequency.\n",
    "axfreq = fig.add_axes([0.25, 0.1, 0.65, 0.03])\n",
    "freq_slider = Slider(\n",
    "    ax=axfreq,\n",
    "    label='Frequency [Hz]',\n",
    "    valmin=0.1,\n",
    "    valmax=30,\n",
    "    valinit=init_frequency,\n",
    ")\n",
    "\n",
    "# Make a vertically oriented slider to control the amplitude\n",
    "axamp = fig.add_axes([0.1, 0.25, 0.0225, 0.63])\n",
    "amp_slider = Slider(\n",
    "    ax=axamp,\n",
    "    label=\"Amplitude\",\n",
    "    valmin=0,\n",
    "    valmax=10,\n",
    "    valinit=init_amplitude,\n",
    "    orientation=\"vertical\"\n",
    ")\n",
    "\n",
    "\n",
    "# The function to be called anytime a slider's value changes\n",
    "def update(val):\n",
    "    line.set_ydata(f(t, amp_slider.val, freq_slider.val))\n",
    "    fig.canvas.draw_idle()\n",
    "\n",
    "\n",
    "# register the update function with each slider\n",
    "freq_slider.on_changed(update)\n",
    "amp_slider.on_changed(update)\n",
    "\n",
    "# Create a `matplotlib.widgets.Button` to reset the sliders to initial values.\n",
    "resetax = fig.add_axes([0.8, 0.025, 0.1, 0.04])\n",
    "button = Button(resetax, 'Reset', hovercolor='0.975')\n",
    "\n",
    "\n",
    "def reset(event):\n",
    "    freq_slider.reset()\n",
    "    amp_slider.reset()\n",
    "button.on_clicked(reset)\n",
    "\n",
    "plt.show()"
   ]
  },
  {
   "cell_type": "code",
   "execution_count": null,
   "id": "b17b7d30-36b3-4809-bd5e-8b3c72748fe0",
   "metadata": {},
   "outputs": [],
   "source": []
  }
 ],
 "metadata": {
  "kernelspec": {
   "display_name": "Python 3 (ipykernel)",
   "language": "python",
   "name": "python3"
  },
  "language_info": {
   "codemirror_mode": {
    "name": "ipython",
    "version": 3
   },
   "file_extension": ".py",
   "mimetype": "text/x-python",
   "name": "python",
   "nbconvert_exporter": "python",
   "pygments_lexer": "ipython3",
   "version": "3.8.12"
  }
 },
 "nbformat": 4,
 "nbformat_minor": 5
}
